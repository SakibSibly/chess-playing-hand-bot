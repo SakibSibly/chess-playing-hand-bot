{
 "cells": [
  {
   "cell_type": "code",
   "execution_count": 18,
   "metadata": {},
   "outputs": [
    {
     "name": "stdout",
     "output_type": "stream",
     "text": [
      "e2e4\n"
     ]
    }
   ],
   "source": [
    "import chess\n",
    "from stockfish import Stockfish\n",
    "\n",
    "\n",
    "board = chess.Board()\n",
    "# print(board)\n",
    "\n",
    "stockfish = Stockfish(\"./stockfish-ubuntu-x86-64-vnni512\")\n",
    "\n",
    "stockfish.set_depth(20)\n",
    "stockfish.set_skill_level(10)\n",
    "stockfish.get_parameters()\n",
    "\n",
    "print(stockfish.get_best_move())"
   ]
  },
  {
   "cell_type": "code",
   "execution_count": 6,
   "metadata": {},
   "outputs": [
    {
     "name": "stdout",
     "output_type": "stream",
     "text": [
      "File exists!\n"
     ]
    }
   ],
   "source": [
    "import os\n",
    "\n",
    "file_path = \"stockfish-ubuntu-x86-64-vnni512\"\n",
    "if os.path.exists(file_path):\n",
    "    print(\"File exists!\")\n",
    "else:\n",
    "    print(\"File not found.\")\n"
   ]
  }
 ],
 "metadata": {
  "kernelspec": {
   "display_name": "iot",
   "language": "python",
   "name": "python3"
  },
  "language_info": {
   "codemirror_mode": {
    "name": "ipython",
    "version": 3
   },
   "file_extension": ".py",
   "mimetype": "text/x-python",
   "name": "python",
   "nbconvert_exporter": "python",
   "pygments_lexer": "ipython3",
   "version": "3.10.15"
  }
 },
 "nbformat": 4,
 "nbformat_minor": 2
}
